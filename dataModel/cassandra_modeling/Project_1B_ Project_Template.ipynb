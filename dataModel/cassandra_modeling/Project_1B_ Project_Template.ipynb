{
 "cells": [
  {
   "cell_type": "markdown",
   "metadata": {
    "editable": true
   },
   "source": [
    "# Part I. ETL Pipeline for Pre-Processing the Files"
   ]
  },
  {
   "cell_type": "markdown",
   "metadata": {
    "editable": true
   },
   "source": [
    "## PLEASE RUN THE FOLLOWING CODE FOR PRE-PROCESSING THE FILES"
   ]
  },
  {
   "cell_type": "markdown",
   "metadata": {
    "editable": true
   },
   "source": [
    "#### Import Python packages "
   ]
  },
  {
   "cell_type": "code",
   "execution_count": 100,
   "metadata": {
    "editable": true
   },
   "outputs": [],
   "source": [
    "import pandas as pd\n",
    "import cassandra\n",
    "import re\n",
    "import os\n",
    "import glob\n",
    "import numpy as np\n",
    "import json\n",
    "import csv\n",
    "from prettytable import PrettyTable"
   ]
  },
  {
   "cell_type": "markdown",
   "metadata": {
    "editable": true
   },
   "source": [
    "#### Creating list of filepaths to process original event csv data files"
   ]
  },
  {
   "cell_type": "code",
   "execution_count": 2,
   "metadata": {
    "editable": true
   },
   "outputs": [
    {
     "name": "stdout",
     "output_type": "stream",
     "text": [
      "['/home/workspace/event_data/2018-11-30-events.csv', '/home/workspace/event_data/2018-11-23-events.csv', '/home/workspace/event_data/2018-11-22-events.csv', '/home/workspace/event_data/2018-11-29-events.csv', '/home/workspace/event_data/2018-11-11-events.csv', '/home/workspace/event_data/2018-11-14-events.csv', '/home/workspace/event_data/2018-11-20-events.csv', '/home/workspace/event_data/2018-11-15-events.csv', '/home/workspace/event_data/2018-11-05-events.csv', '/home/workspace/event_data/2018-11-28-events.csv', '/home/workspace/event_data/2018-11-25-events.csv', '/home/workspace/event_data/2018-11-16-events.csv', '/home/workspace/event_data/2018-11-18-events.csv', '/home/workspace/event_data/2018-11-24-events.csv', '/home/workspace/event_data/2018-11-04-events.csv', '/home/workspace/event_data/2018-11-19-events.csv', '/home/workspace/event_data/2018-11-26-events.csv', '/home/workspace/event_data/2018-11-12-events.csv', '/home/workspace/event_data/2018-11-27-events.csv', '/home/workspace/event_data/2018-11-06-events.csv', '/home/workspace/event_data/2018-11-09-events.csv', '/home/workspace/event_data/2018-11-03-events.csv', '/home/workspace/event_data/2018-11-21-events.csv', '/home/workspace/event_data/2018-11-07-events.csv', '/home/workspace/event_data/2018-11-01-events.csv', '/home/workspace/event_data/2018-11-13-events.csv', '/home/workspace/event_data/2018-11-17-events.csv', '/home/workspace/event_data/2018-11-08-events.csv', '/home/workspace/event_data/2018-11-10-events.csv', '/home/workspace/event_data/2018-11-02-events.csv']\n",
      "['/home/workspace/event_data/.ipynb_checkpoints/2018-11-03-events-checkpoint.csv', '/home/workspace/event_data/.ipynb_checkpoints/2018-11-02-events-checkpoint.csv', '/home/workspace/event_data/.ipynb_checkpoints/2018-11-01-events-checkpoint.csv']\n"
     ]
    }
   ],
   "source": [
    "filepath = os.getcwd() + '/event_data'\n",
    "\n",
    "for root, dirs, files in os.walk(filepath):\n",
    "    \n",
    "    file_path_list = glob.glob(os.path.join(root,'*'))\n",
    "    print(file_path_list)"
   ]
  },
  {
   "cell_type": "markdown",
   "metadata": {
    "editable": true
   },
   "source": [
    "#### Processing the files to create the data file csv that will be used for Apache Casssandra tables"
   ]
  },
  {
   "cell_type": "code",
   "execution_count": 69,
   "metadata": {
    "editable": true
   },
   "outputs": [
    {
     "name": "stdout",
     "output_type": "stream",
     "text": [
      "Celeste,Playa Haters\n",
      "Celeste,You Belong With Me\n",
      "Celeste,Valerie\n",
      "Celeste,Dizzy\n",
      "Anabelle,Supelicula\n",
      "Connar,Bermuda\n",
      "Jayden,Din Din Wo\n",
      "Sara,Eddie's Gun\n",
      "Sara,Hook\n",
      "Sara,Shiver\n",
      "Sara,The Wild One_ Forever\n",
      "Sara,Give and Go\n",
      "Sara,Cosmic Love\n",
      "Sara,Greece 2000\n",
      "Sara,Sorry\n",
      "Sara,Round And Round (Soul Mix Edit)\n",
      "Sara,Windmills Of Your Mind\n",
      "Sara,Tequila\n",
      "Sara,Poor Leno Jakatta Radio Mix\n",
      "Sara,Bat Country (Album Version)\n",
      "Sara,Ain't Misbehavin\n",
      "Sara,Hallaa\n",
      "Sara,Cathar Rhythm\n",
      "Sylvie,Moonlight Serenade\n",
      "Sara,KissKiss\n",
      "Lily,Rabbit Heart (Raise It Up)\n",
      "Sara,Me_ Myself & I\n",
      "Sara,Got Money\n",
      "Lily,Milord\n",
      "Lily,Losing Ground\n",
      "Sara,Elevator\n",
      "Lily,I Need You Now (Build A Bridge Version)\n",
      "Sara,Whataya Want From Me\n",
      "Sara,Little Girl (With Blue Eyes)\n",
      "Lily,Creil City\n",
      "Sara,Ponderosa\n",
      "Lily,Betterman (full-length/album version)\n",
      "Sara,Believe (Demo)\n",
      "Lily,Fader\n",
      "Sara,Patadas En El Corazon\n",
      "Lily,Finger Twist & Split (Album Version)\n",
      "Sara,Bubble Toes\n",
      "Lily,Simple\n",
      "Sara,Feelin' Blue\n",
      "Lily,No Seas Cruel (vivo)\n",
      "Sara,Not The Sun\n",
      "Lily,Into The Sun\n",
      "Sara,EMCEE Murdah\n",
      "Lily,Acercate Mas (2000 Digital Remaster)\n",
      "Sara,Moonlupe\n",
      "Sara,Ray Gun\n",
      "Lily,In the Yard of the Father's Son\n",
      "Lily,Slave To Love (1999 Digital Remaster)\n",
      "Sara,All Hands Against His Own\n",
      "Lily,Wanna-be Angel (Album Version)\n",
      "Sara,West One (Shine On Me)\n",
      "Lily,Victoria (LP Version)\n",
      "Lily,Catch You Baby (Steve Pitron & Max Sanna Radio Edit)\n",
      "Sara,For Emma\n",
      "Lily,Dog Days Are Over (Radio Edit)\n",
      "Sara,One Of These Days\n",
      "Lily,Flex\n",
      "Sara,This Notebook\n",
      "Lily,Punch Drunk Grinning Soul\n",
      "Sara,If I Was\n",
      "Lily,Spin Spin Sugar\n",
      "Sara,Unchained Melody\n",
      "Sara,Jonny's Blessing\n",
      "Lily,Aurora\n",
      "Sara,God Smack\n",
      "Lily,Wasteland\n",
      "Lily,No Siento Penas\n",
      "Sara,Wild World\n",
      "Lily,Sleepyhead\n",
      "Sara,Fader\n",
      "Lily,Secrets\n",
      "Sara,Florida\n",
      "Sara,Even In My Dreams\n",
      "Lily,Heiterkeit\n",
      "Sara,TULENLIEKKI\n",
      "Sara,Rollin' (Air Raid Vehicle)\n",
      "Sara,In America (Album Version)\n",
      "Sara,No Love\n",
      "Sara,Let It Fall\n",
      "Sara,Free\n",
      "Sara,Hypnopaedia\n",
      "Sara,Secrets\n",
      "Sara,La Sigo Amando Tanto\n",
      "Sara,Tears In Heaven\n",
      "Sara,Fountain Of Youth\n",
      "Sara,Gears\n",
      "Sara,Born To Be Wild\n",
      "Sara,Lucky (Album Version)\n",
      "Sara,The Stranger Song\n",
      "Ayla,Kathy with a K's Song\n",
      "Chloe,The Boy With The Thorn In His Side\n",
      "Chloe,Cuando Eramos Reyes\n",
      "Chloe,Pink Ego Box\n",
      "Cecilia,Just Might (Make Me Believe)\n",
      "Cecilia,Absolution: Of Flight and Failure\n",
      "Jayden,Am I High (Feat. Malice)\n",
      "Stefany,A Lack Of Color (Album Version)\n",
      "Stefany,I Have A Wish\n",
      "Kevin,Monster (Album Version)\n",
      "Marina,Uneasy Hearts Weigh The Most\n",
      "Aiden,Falta Te Dizer\n",
      "Makinley,Family Business\n",
      "Kevin,Lucky (Album Version)\n",
      "Lily,Journey To The Past  (LP Version)\n",
      "Lily,Everything I Try to Do_ Nothing Seems to Turn Out Right\n",
      "Lily,Impossible\n",
      "Lily,Secrets\n",
      "Kynnedi,Wild World\n",
      "Lily,World Keeps Turning\n",
      "Lily,Greed\n",
      "Lily,Swing Javanaise\n",
      "Lily,Ed Ero Contentissimo\n",
      "Lily,Ship Inside A Bottle\n",
      "Lily,The Cut\n",
      "Lily,Ride A White Swan\n",
      "Lily,Mirando a Las Muchachas\n",
      "Lily,Clouds (Of Color Bright Album Version)\n",
      "Lily,Riberonzinha\n",
      "Lily,Big Blue Note\n",
      "Lily,Naked\n",
      "Lily,In All This Revelation\n",
      "Lily,Bottom of a Bottle (Explicit Album Version)\n",
      "Lily,Wake Up Alone\n",
      "Lily,Sisterfucker (part Ii)\n",
      "Lily,Dekh Le\n",
      "Lily,Little Girl Lies (2001 Digital Remaster)\n",
      "Lily,Got Me\n",
      "Lily,The Lengths\n",
      "Lily,Eye Of The Tiger\n",
      "Lily,I Miss You\n",
      "Lily,Little April Shower\n",
      "Lily,Stillness Is The Move\n",
      "Lily,From Left To Right\n",
      "Lily,Shelter From The Rain\n",
      "Lily,North Sea Storm (Live)\n",
      "Lily,BedRock (Radio Edit) (feat.Lloyd)\n",
      "Lily,Anti-Everything\n",
      "Lily,Airplanes\n",
      "Lily,Awkward Game\n",
      "Tegan,Knights\n",
      "Lily,No Hay Nadie Como TÃÂº\n",
      "Aleena,Fuck Kitty\n",
      "Aleena,Barbershop\n",
      "Tegan,Piano Concerto No. 2 in G minor Op. 22 (2006 Digital Remaster): III.  Presto\n",
      "Lily,Fixin to Thrill\n",
      "Mohammad,The Western World\n",
      "Aleena,Flashing Lights\n",
      "Lily,Waiting for a Train [Single Mix]\n",
      "Tegan,New Theory\n",
      "Aleena,I Kissed A Girl\n",
      "Lily,Miss Murder\n",
      "Aleena,Forever\n",
      "Lily,16 Candles\n",
      "Lily,Come As You Are\n",
      "Aleena,Dragon Pie\n",
      "Lily,Honest Expression\n",
      "Aleena,Whose Authority\n",
      "Aleena,Beyond Time (Ambient Mix)\n",
      "Lily,By Darkness Enslaved\n",
      "Lily,I Am The Walrus\n",
      "Aleena,The View\n",
      "Aleena,Where Is My Mind?\n",
      "Lily,Holy Roller Novocaine\n",
      "Aleena,You Know I'm No Good\n",
      "Lily,ReprÃÂ©sente\n",
      "Chloe,Coma\n",
      "Aleena,Lil Mama\n",
      "Lily,Whiskey\n",
      "Aleena,No Surprise\n",
      "Chloe,Playground Love\n",
      "Lily,Ain't Misbehavin\n",
      "Aleena,Deep Enough\n",
      "Lily,Summerland\n",
      "Aleena,Down To The River To Pray\n",
      "Lily,Move Along\n",
      "Aleena,XRDS\n",
      "Aiden,Liquid Confidence\n",
      "Lily,Everything Is Alright (Album Version)\n",
      "Lily,Something To Believe In\n",
      "Lily,Kingdom\n",
      "Lily,Mama Said\n",
      "Lily,Sylvia's Mother\n",
      "Lily,Diferente\n",
      "Lily,Play On\n",
      "Lily,I.D.\n",
      "Lily,Drop The World\n",
      "Lily,For Your Pleasure\n",
      "Lily,De SÃÂ£o Paulo ÃÂ BelÃÂ©m\n",
      "Lily,Outfit\n",
      "Lily,Smoking Cigarettes (LP Version)\n",
      "Lily,Steven's Last Night In Town\n",
      "Lily,Lies\n",
      "Adler,Dos (LP Version)\n",
      "Lily,Make Love To Your Mind\n",
      "Adler,Salvapantallas\n",
      "Lily,How Am I Supposed To Live Without You\n",
      "Adler,Marianas\n",
      "Lily,The Seventh Stranger\n",
      "Lily,Meddle\n",
      "Lily,Glory Days To Come\n",
      "Lily,Undo\n",
      "Lily,Hey Mama\n",
      "Lily,Find You Waiting\n",
      "Lily,1009\n",
      "Tegan,Canada\n",
      "Tegan,The Sea\n",
      "Tegan,All My Mistakes (US4BW0700133)\n",
      "Aiden,Children\n",
      "Ryan,Talk To Her\n",
      "Ryan,I'm Sleeping In A Submarine\n",
      "Ryan,Crescendolls\n",
      "Ryan,When In Rome\n",
      "Ryan,Footprints\n",
      "Samuel,Sweet Hitch-Hiker\n",
      "Samuel,Love Like Crazy (Extended Mix)\n",
      "Mohammad,Comes And Goes ( In Waves )\n",
      "Mohammad,Mercy:The Laundromat\n",
      "Mohammad,Courtesy Call (Explicit)\n",
      "Mohammad,I'm Your Man\n",
      "Joseph,The Wild Hunt\n",
      "Joseph,Teenagers (Album Version)\n",
      "Joseph,After Laughter (Comes Tears) (LP Version)\n",
      "Joseph,Country Road\n",
      "Joseph,Invalid\n",
      "Mohammad,BND\n",
      "Mohammad,I Kissed A Girl\n",
      "Joseph,Ghost\n",
      "Ava,You're The One\n",
      "Joseph,On Green Dolphin Street (Medley) (1999 Digital Remaster)\n",
      "Ava,Van Comp\n",
      "Joseph,Divers\n",
      "Joseph,Hello Little Girl\n",
      "Joseph,Hormigas\n",
      "Joseph,Weathered\n",
      "Joseph,Chi Mai (El Profesional)\n",
      "Sylvie,Keep On Keepin' On\n",
      "Sylvie,Greece 2000\n",
      "Sylvie,Kilometer\n",
      "Sylvie,Catch You Baby (Steve Pitron & Max Sanna Radio Edit)\n",
      "Ava,Fireflies\n",
      "Ava,NiÃÂ±o Soldado\n",
      "Ava,You're The One\n",
      "Ayleen,Pop Is Dead\n",
      "Ayleen,The Mountains Of Navaho\n",
      "Ayleen,SinceritÃÂ© Et Jalousie\n",
      "Ayleen,Ova Da Wudz\n",
      "Kaleb,Uhn Tiss Uhn Tiss Uhn Tiss\n",
      "Isaac,Adios\n",
      "Isaac,Pop Corn\n",
      "Isaac,Strasbourg\n",
      "Kaylee,You Gotta Be\n",
      "Kaylee,Flat 55\n",
      "Kaylee,Quem Quiser Encontrar O Amor\n",
      "Kaylee,Eriatarka\n",
      "Kaylee,Becoming Insane\n",
      "Kaylee,Congratulations\n",
      "Kaylee,Once again\n",
      "Sylvie,Pump It\n",
      "Ryan,Nobody Puts Baby In The Corner\n",
      "Ryan,Mango Pickle Down River (With The Wilcannia Mob)\n",
      "Jayden,Eye Of The Tiger\n"
     ]
    }
   ],
   "source": [
    "full_data_rows_list = [] \n",
    "    \n",
    "for f in file_path_list:\n",
    "\n",
    "    with open(f, 'r', encoding = 'utf8', newline='') as csvfile: \n",
    "        csvreader = csv.reader(csvfile) \n",
    "        next(csvreader)\n",
    "        \n",
    "        for line in csvreader:\n",
    "            #print(line)\n",
    "            full_data_rows_list.append(line) \n",
    "            \n",
    "\n",
    "csv.register_dialect('myDialect', quoting=csv.QUOTE_ALL, skipinitialspace=True)\n",
    "\n",
    "with open('event_datafile_new.csv', 'w', encoding = 'utf8', newline='') as f:\n",
    "    writer = csv.writer(f, dialect='myDialect')\n",
    "    writer.writerow(['artist','firstName','gender','itemInSession','lastName','length',\\\n",
    "                'level','location','sessionId','song','userId'])\n",
    "    for row in full_data_rows_list:\n",
    "        if (row[0] == ''):\n",
    "            continue\n",
    "        writer.writerow((row[0], row[2], row[3], row[4], row[5], row[6], row[7], row[8], row[12], row[13], row[16]))\n",
    "        print(row[2] + \",\" + row[13])"
   ]
  },
  {
   "cell_type": "code",
   "execution_count": 17,
   "metadata": {
    "editable": true
   },
   "outputs": [
    {
     "name": "stdout",
     "output_type": "stream",
     "text": [
      "267\n"
     ]
    }
   ],
   "source": [
    "with open('event_datafile_new.csv', 'r', encoding = 'utf8') as f:\n",
    "    print(sum(1 for line in f))"
   ]
  },
  {
   "cell_type": "markdown",
   "metadata": {
    "editable": true
   },
   "source": [
    "# Part II. Complete the Apache Cassandra coding portion of your project. \n",
    "\n",
    "## Now you are ready to work with the CSV file titled <font color=red>event_datafile_new.csv</font>, located within the Workspace directory.  The event_datafile_new.csv contains the following columns: \n",
    "- artist \n",
    "- firstName of user\n",
    "- gender of user\n",
    "- item number in session\n",
    "- last name of user\n",
    "- length of the song\n",
    "- level (paid or free song)\n",
    "- location of the user\n",
    "- sessionId\n",
    "- song title\n",
    "- userId\n",
    "\n",
    "The image below is a screenshot of what the denormalized data should appear like in the <font color=red>**event_datafile_new.csv**</font> after the code above is run:<br>\n",
    "\n",
    "<img src=\"images/image_event_datafile_new.jpg\">"
   ]
  },
  {
   "cell_type": "markdown",
   "metadata": {
    "editable": true
   },
   "source": [
    "## Begin writing your Apache Cassandra code in the cells below"
   ]
  },
  {
   "cell_type": "markdown",
   "metadata": {
    "editable": true
   },
   "source": [
    "#### Creating a Cluster"
   ]
  },
  {
   "cell_type": "code",
   "execution_count": 5,
   "metadata": {
    "editable": true
   },
   "outputs": [
    {
     "name": "stdout",
     "output_type": "stream",
     "text": [
      "connected success\n"
     ]
    }
   ],
   "source": [
    "from cassandra.cluster import Cluster\n",
    "\n",
    "try:\n",
    "    #cluster = Cluster(['127.0.0.1']) #Local\n",
    "    cluster = Cluster()\n",
    "    session = cluster.connect()\n",
    "    print('connected success')\n",
    "except Exception as e:\n",
    "    print(e)"
   ]
  },
  {
   "cell_type": "markdown",
   "metadata": {
    "editable": true
   },
   "source": [
    "#### Create Keyspace"
   ]
  },
  {
   "cell_type": "code",
   "execution_count": 6,
   "metadata": {
    "editable": true
   },
   "outputs": [
    {
     "name": "stdout",
     "output_type": "stream",
     "text": [
      "keyspace created\n"
     ]
    }
   ],
   "source": [
    "try:\n",
    "    session.execute(\"\"\"\n",
    "    CREATE KEYSPACE IF NOT EXISTS public\n",
    "    WITH REPLICATION = \n",
    "    { 'class' : 'SimpleStrategy', 'replication_factor': 1 }\"\"\"\n",
    "                   )\n",
    "    print('keyspace created')\n",
    "except Exception as e:\n",
    "    print(e)"
   ]
  },
  {
   "cell_type": "markdown",
   "metadata": {
    "editable": true
   },
   "source": [
    "#### Set Keyspace"
   ]
  },
  {
   "cell_type": "code",
   "execution_count": 7,
   "metadata": {
    "editable": true
   },
   "outputs": [
    {
     "name": "stdout",
     "output_type": "stream",
     "text": [
      "keyspace set\n"
     ]
    }
   ],
   "source": [
    "try:\n",
    "    session.set_keyspace('public')\n",
    "    print('keyspace set')\n",
    "except Exception as e:\n",
    "    print(e)"
   ]
  },
  {
   "cell_type": "markdown",
   "metadata": {
    "editable": true
   },
   "source": [
    "### Now we need to create tables to run the following queries. Remember, with Apache Cassandra you model the database tables on the queries you want to run."
   ]
  },
  {
   "cell_type": "markdown",
   "metadata": {
    "editable": true
   },
   "source": [
    "## Query 1:  Give me the artist, song title and song's length in the music app history that was heard during  sessionId = 338, and itemInSession = 4"
   ]
  },
  {
   "cell_type": "code",
   "execution_count": 131,
   "metadata": {
    "editable": true
   },
   "outputs": [],
   "source": [
    "def insert_data(query, session, values, dtypes, file):\n",
    "    assert(len(values) ==  len(dtypes))\n",
    "    with open(file, encoding = 'utf8') as f:\n",
    "        csvreader = csv.reader(f)\n",
    "        next(csvreader) # skip header\n",
    "        for line in csvreader:\n",
    "            session.execute(query, tuple([dtype(line[x]) for x, dtype in zip(values, dtypes)]))"
   ]
  },
  {
   "cell_type": "code",
   "execution_count": 132,
   "metadata": {
    "editable": true
   },
   "outputs": [],
   "source": [
    "query = \"CREATE TABLE IF NOT EXISTS artist_by_item \"\n",
    "query = query + \"(sessionId int, itemInSession int, artist text, song text, length decimal, PRIMARY KEY ((sessionId), itemInSession) );\"\n",
    "\n",
    "try:\n",
    "    session.execute(query)\n",
    "except Exception as e:\n",
    "    print(e)"
   ]
  },
  {
   "cell_type": "code",
   "execution_count": 133,
   "metadata": {
    "editable": true
   },
   "outputs": [],
   "source": [
    "file = 'event_datafile_new.csv'\n",
    "\n",
    "query = \"INSERT INTO artist_by_item (sessionId, itemInSession, artist, song, length)\"\n",
    "query = query + \" VALUES (%s, %s, %s, %s, %s)\"\n",
    "\n",
    "values = [8, 3, 0, 9, 5]\n",
    "dtypes = [int, int, str, str, float]\n",
    "\n",
    "insert_data(query, session, values, dtypes, file)"
   ]
  },
  {
   "cell_type": "markdown",
   "metadata": {
    "editable": true
   },
   "source": [
    "#### Do a SELECT to verify that the data have been inserted into each table"
   ]
  },
  {
   "cell_type": "code",
   "execution_count": 134,
   "metadata": {
    "editable": true,
    "scrolled": true
   },
   "outputs": [
    {
     "name": "stdout",
     "output_type": "stream",
     "text": [
      "+---------+--------------+-----------+\n",
      "|  Artist |     Song     |   Length  |\n",
      "+---------+--------------+-----------+\n",
      "| Des'ree | You Gotta Be | 246.30812 |\n",
      "+---------+--------------+-----------+\n"
     ]
    }
   ],
   "source": [
    "query = \"Select artist, song, length from artist_by_item where sessionId = 139 and itemInSession = 1; \"\n",
    "\n",
    "q1_table = PrettyTable()\n",
    "q1_table.field_names = ['Artist', 'Song', 'Length']\n",
    "\n",
    "\n",
    "try:\n",
    "    rows = session.execute(query)\n",
    "except Exception as e:\n",
    "    print(e)\n",
    "\n",
    "for row in rows:\n",
    "    q1_table.add_row([row.artist, row.song, row.length])\n",
    "\n",
    "print(q1_table)"
   ]
  },
  {
   "cell_type": "markdown",
   "metadata": {
    "editable": true
   },
   "source": [
    "### COPY AND REPEAT THE ABOVE THREE CELLS FOR EACH OF THE THREE QUESTIONS"
   ]
  },
  {
   "cell_type": "markdown",
   "metadata": {
    "editable": true
   },
   "source": [
    "## Query 2: Give me only the following: name of artist, song (sorted by itemInSession) and user (first and last name)  for userid = 10, sessionid = 182"
   ]
  },
  {
   "cell_type": "code",
   "execution_count": 178,
   "metadata": {
    "editable": true
   },
   "outputs": [],
   "source": [
    "query = \"CREATE TABLE IF NOT EXISTS artist_by_userid_sessionid \"\n",
    "query = query + \"(userId int, sessionId int, itemInSession int, artist text, song text, firstName text, lastName text,  PRIMARY KEY ((userid, sessionid), itemInSession) );\"\n",
    "\n",
    "try:\n",
    "    session.execute(query)\n",
    "except Exception as e:\n",
    "    print(e)                   "
   ]
  },
  {
   "cell_type": "code",
   "execution_count": 179,
   "metadata": {
    "editable": true
   },
   "outputs": [],
   "source": [
    "file = 'event_datafile_new.csv'\n",
    "\n",
    "query = \"INSERT INTO artist_by_userid_sessionid (userId, sessionId, itemInSession, artist, song, firstName, lastName)\"\n",
    "query = query + \" VALUES (%s, %s, %s, %s, %s, %s, %s)\"\n",
    "\n",
    "values = [10, 8, 3, 0, 9, 1, 4]\n",
    "dtypes = [int, int, int, str, str, str, str]\n",
    "\n",
    "insert_data(query, session, values, dtypes, file)"
   ]
  },
  {
   "cell_type": "code",
   "execution_count": 182,
   "metadata": {
    "editable": true
   },
   "outputs": [
    {
     "name": "stdout",
     "output_type": "stream",
     "text": [
      "+-------------------+------------------------------------------------------+-------------+\n",
      "|       Artist      |                         Song                         |   Username  |\n",
      "+-------------------+------------------------------------------------------+-------------+\n",
      "|  Down To The Bone |                  Keep On Keepin' On                  | Sylvie Cruz |\n",
      "|    Three Drives   |                     Greece 2000                      | Sylvie Cruz |\n",
      "| Sebastien Tellier |                      Kilometer                       | Sylvie Cruz |\n",
      "|   Lonnie Gordon   | Catch You Baby (Steve Pitron & Max Sanna Radio Edit) | Sylvie Cruz |\n",
      "+-------------------+------------------------------------------------------+-------------+\n"
     ]
    }
   ],
   "source": [
    "query = \"Select artist, song, firstname, lastname from artist_by_userid_sessionid where userid = 10 and sessionid = 182; \"\n",
    "\n",
    "q2_table = PrettyTable()\n",
    "q2_table.field_names = ['Artist', 'Song', 'Username']\n",
    "\n",
    "try:\n",
    "    rows = session.execute(query)\n",
    "except Exception as e:\n",
    "    print(e)\n",
    "\n",
    "for row in rows:\n",
    "    q2_table.add_row([row.artist, row.song, row.firstname + \" \" + row.lastname])\n",
    "    \n",
    "print(q2_table)"
   ]
  },
  {
   "cell_type": "markdown",
   "metadata": {
    "editable": true
   },
   "source": [
    "## Query 3: Give me every user name (first and last) in my music app history who listened to the song 'All Hands Against His Own'             "
   ]
  },
  {
   "cell_type": "code",
   "execution_count": 190,
   "metadata": {
    "editable": true
   },
   "outputs": [],
   "source": [
    "query = \"CREATE TABLE IF NOT EXISTS username_by_song \"\n",
    "query = query + \"(song text, firstname text, lastname text,  PRIMARY KEY ((song), firstname, lastname) );\"\n",
    "\n",
    "try:\n",
    "    session.execute(query)\n",
    "except Exception as e:\n",
    "    print(e)    "
   ]
  },
  {
   "cell_type": "code",
   "execution_count": 191,
   "metadata": {
    "editable": true
   },
   "outputs": [],
   "source": [
    "file = 'event_datafile_new.csv'\n",
    "\n",
    "query = \"INSERT INTO username_by_song (song, firstname, lastname) \"\n",
    "query = query + \" VALUES (%s, %s, %s)\"\n",
    "\n",
    "values = [9, 1, 4]\n",
    "dtypes = [str, str, str]\n",
    "\n",
    "insert_data(query, session, values, dtypes, file)"
   ]
  },
  {
   "cell_type": "code",
   "execution_count": 196,
   "metadata": {
    "editable": true
   },
   "outputs": [
    {
     "name": "stdout",
     "output_type": "stream",
     "text": [
      "+--------------+\n",
      "|   Username   |\n",
      "+--------------+\n",
      "| Sara Johnson |\n",
      "| Sylvie Cruz  |\n",
      "+--------------+\n"
     ]
    }
   ],
   "source": [
    "query = \"Select firstname, lastname from username_by_song where song = 'Greece 2000'; \"\n",
    "\n",
    "q3_table = PrettyTable()\n",
    "q3_table.field_names = ['Username']\n",
    "\n",
    "try:\n",
    "    rows = session.execute(query)\n",
    "except Exception as e:\n",
    "    print(e)\n",
    "\n",
    "for row in rows:\n",
    "    q3_table.add_row([row.firstname + \" \" + row.lastname])\n",
    "print(q3_table)"
   ]
  },
  {
   "cell_type": "markdown",
   "metadata": {
    "editable": true
   },
   "source": [
    "### Drop the tables before closing out the sessions"
   ]
  },
  {
   "cell_type": "code",
   "execution_count": 189,
   "metadata": {
    "editable": true
   },
   "outputs": [],
   "source": [
    "try:\n",
    "    session.execute(\"drop table IF EXISTS artist_by_item; \")\n",
    "    session.execute(\"drop table IF EXISTS artist_by_userid_sessionid; \")\n",
    "    session.execute(\"drop table IF EXISTS username_by_song; \")\n",
    "except Exception as e:\n",
    "    print(e)"
   ]
  },
  {
   "cell_type": "markdown",
   "metadata": {
    "editable": true
   },
   "source": [
    "### Close the session and cluster connection¶"
   ]
  },
  {
   "cell_type": "code",
   "execution_count": null,
   "metadata": {
    "editable": true
   },
   "outputs": [],
   "source": [
    "session.shutdown()\n",
    "cluster.shutdown()"
   ]
  },
  {
   "cell_type": "code",
   "execution_count": null,
   "metadata": {
    "editable": true
   },
   "outputs": [],
   "source": []
  },
  {
   "cell_type": "code",
   "execution_count": null,
   "metadata": {
    "editable": true
   },
   "outputs": [],
   "source": []
  }
 ],
 "metadata": {
  "kernelspec": {
   "display_name": "Python 3",
   "language": "python",
   "name": "python3"
  },
  "language_info": {
   "codemirror_mode": {
    "name": "ipython",
    "version": 3
   },
   "file_extension": ".py",
   "mimetype": "text/x-python",
   "name": "python",
   "nbconvert_exporter": "python",
   "pygments_lexer": "ipython3",
   "version": "3.6.3"
  }
 },
 "nbformat": 4,
 "nbformat_minor": 4
}
